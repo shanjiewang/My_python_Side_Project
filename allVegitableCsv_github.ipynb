{
 "cells": [
  {
   "cell_type": "code",
   "execution_count": 4,
   "id": "85c7bcc3",
   "metadata": {},
   "outputs": [
    {
     "name": "stdout",
     "output_type": "stream",
     "text": [
      "['111.01.03']\n",
      "成功\n",
      "['111.01.04']\n",
      "成功\n"
     ]
    }
   ],
   "source": [
    "##### 標準不可動版 #####\n",
    "\n",
    "from selenium import webdriver\n",
    "from selenium.common.exceptions import TimeoutException\n",
    "from selenium.webdriver.support.ui import WebDriverWait\n",
    "from selenium.webdriver.support import expected_conditions as EC\n",
    "from selenium.webdriver.common.by import By\n",
    "from time import sleep\n",
    "\n",
    "import os\n",
    "\n",
    "# 處理下拉式選單的工具\n",
    "from selenium.webdriver.support.ui import Select\n",
    "import requests, json\n",
    "import os, csv, re\n",
    "import pandas as pd\n",
    "import numpy as np\n",
    "\n",
    "# 啟動瀏覽器工具的選項\n",
    "options = webdriver.ChromeOptions()\n",
    "# options.add_argument(\"--headless\")                # 不開啟實體瀏覽器背景執行\n",
    "options.add_argument(\"--start-maximized\")         # 最大化視窗\n",
    "options.add_argument(\"--incognito\")               # 開啟無痕模式\n",
    "options.add_argument(\"--disable-popup-blocking\") # 禁用彈出攔截\n",
    "\n",
    "\n",
    "driver = webdriver.Chrome( options = options )\n",
    "url='https://data.coa.gov.tw/open_search.aspx?id=037'\n",
    "\n",
    "# 放置爬取的資料\n",
    "listData = []\n",
    "\n",
    "def visit():\n",
    "    driver.get(url);\n",
    "    sleep(3)\n",
    "    \n",
    "    data1=pd.read_csv(r'dataOriginalCsv/allMonth3.csv') # ,encoding='utf8'\n",
    "    #print(data1.info())\n",
    "    #print(data1)\n",
    "    \n",
    "    dfCsv=pd.DataFrame(data1)\n",
    "    df_ch=dfCsv.values.tolist()\n",
    "    #print(df_ch)\n",
    "    \n",
    "    addcondition()\n",
    "\n",
    "    for df1 in df_ch:\n",
    "        search(df1)    \n",
    "        driver.find_element(By.CSS_SELECTOR, \"div.search-input input[name='ctl00$ContentPlaceHolder1$m_ConditionText']\").clear()\n",
    "        driver.find_element(By.CSS_SELECTOR, 'input[name=\"ctl00$ContentPlaceHolder1$m_top\"]').clear()\n",
    "        \n",
    "def addcondition():\n",
    "    btnInput= driver.find_element(By.CSS_SELECTOR, 'a#ContentPlaceHolder1_m_AddCondition')\n",
    "    btnInput.click()\n",
    "    sleep(3)\n",
    "    \n",
    "    selectstart = Select(driver.find_element(By.CSS_SELECTOR,'select[name=\"ctl00$ContentPlaceHolder1$m_QueryColumns\"]'))\n",
    "    selectstart.select_by_visible_text('交易日期(起)')\n",
    "    sleep(2)\n",
    "    \n",
    "    selectend = Select(driver.find_element(By.CSS_SELECTOR,'select[name=\"ctl00$ContentPlaceHolder1$m_QueryColumns0\"]'))\n",
    "    selectend.select_by_visible_text('交易日期(訖)')\n",
    "    sleep(2)\n",
    "\n",
    "def search(df1):\n",
    "\n",
    "    print(df1)\n",
    "    txtInput1=driver.find_element(By.CSS_SELECTOR, \"div.search-input input[name='ctl00$ContentPlaceHolder1$m_ConditionText']\")      \n",
    "    txtInput1.send_keys(df1)\n",
    "    sleep(1)\n",
    "    \n",
    "    txtInput2=driver.find_element(By.CSS_SELECTOR, 'input[name=\"ctl00$ContentPlaceHolder1$m_top\"]')\n",
    "    txtInput2.send_keys('10000')\n",
    "    sleep(3)\n",
    "    \n",
    "    # 按下查詢\n",
    "    driver.find_element(By.CSS_SELECTOR, 'a#ContentPlaceHolder1_m_Query').click()\n",
    "    sleep(5)\n",
    "    \n",
    "    openAndSaveCsv()\n",
    "\n",
    "def openAndSaveCsv():\n",
    "    # 直接抓csv檔\n",
    "    driver.find_element(By.CSS_SELECTOR, 'a#ContentPlaceHolder1_m_CSV').click()\n",
    "    sleep(10)\n",
    "    while True:\n",
    "        print(\"成功\")\n",
    "        break\n",
    "#     data2=pd.read_csv('.\\Downloads\\037.csv')\n",
    "#     data2.to_csv('1010102.csv', index=False)\n",
    "\n",
    "if __name__ == '__main__':\n",
    "    visit()\n",
    "    \n",
    "driver.quit() "
   ]
  },
  {
   "cell_type": "code",
   "execution_count": 109,
   "id": "e6d35cbb",
   "metadata": {},
   "outputs": [
    {
     "name": "stdout",
     "output_type": "stream",
     "text": [
      "['dataCsv\\\\037 (1).csv', 'dataCsv\\\\037 (10).csv', 'dataCsv\\\\037 (11).csv', 'dataCsv\\\\037 (12).csv', 'dataCsv\\\\037 (13).csv', 'dataCsv\\\\037 (2).csv', 'dataCsv\\\\037 (3).csv', 'dataCsv\\\\037 (4).csv', 'dataCsv\\\\037 (5).csv', 'dataCsv\\\\037 (6).csv', 'dataCsv\\\\037 (7).csv', 'dataCsv\\\\037 (8).csv', 'dataCsv\\\\037 (9).csv', 'dataCsv\\\\037.csv']\n",
      "=======\n",
      "75855\n",
      "------\n",
      "39780\n"
     ]
    }
   ],
   "source": [
    "from glob import glob\n",
    "\n",
    "files = glob('dataPause/037*.csv')\n",
    "print(files)\n",
    "\n",
    "df = pd.concat((pd.read_csv(file, usecols=['交易日期','作物代號','作物名稱','市場代號','市場名稱','上價(元_公斤)','中價(元_公斤)','下價(元_公斤)','平均價(元_公斤)','交易量(公斤)'], dtype={'交易日期':object,'種類代碼':str,'作物代號':object,'作物名稱':object,'市場代號':str,'市場名稱':object,'上價(元_公斤)':str,'中價(元_公斤)':str,'下價(元_公斤)':str,'平均價(元_公斤)':str,'交易量(公斤)':str}) for file in files), ignore_index=True)\n",
    "# 交易日期\t種類代碼\t作物代號\t作物名稱\t市場代號\t市場名稱\t上價(元_公斤)\t中價(元_公斤)\t下價(元_公斤)\t平均價(元_公斤)\t交易量(公斤)\n",
    "\n",
    "print(\"=======\")\n",
    "print(len(df))\n",
    "\n",
    "\n",
    "# 確定要保留哪些重複項（如果有）。- first: 除第一次出現外，刪除重複項。- last：刪除除最後一次出現的重複項。- False : 刪除所有重複項。\n",
    "df=df.drop_duplicates(keep='first', inplace=False)  # 刪除重複\n",
    "print(\"------\")\n",
    "print(len(df))\n",
    "\n",
    "df.to_csv(r'dataPause/037All.csv')"
   ]
  },
  {
   "cell_type": "code",
   "execution_count": 105,
   "id": "92f9725f",
   "metadata": {
    "scrolled": false
   },
   "outputs": [
    {
     "name": "stdout",
     "output_type": "stream",
     "text": [
      "              交易日期 作物代號      作物名稱  市場代號 市場名稱  上價(元_公斤)  中價(元_公斤)  下價(元_公斤)  \\\n",
      "0        101.01.04   11        椰子   104  台北二      14.6       8.0       6.1   \n",
      "1        101.01.04   22        棗子   104  台北二      86.8      40.4      17.2   \n",
      "2        101.01.04   31        釋迦   104  台北二      66.4      40.8      25.9   \n",
      "3        101.01.04   32   釋迦-鳳梨釋迦   104  台北二      73.9      32.1      24.5   \n",
      "4        101.01.04   45        草莓   104  台北二     103.3      58.5      39.4   \n",
      "...            ...  ...       ...   ...  ...       ...       ...       ...   \n",
      "9787656  110.12.17  SO3  甘薯-臺農66號   950  花蓮市      18.3      16.0      15.4   \n",
      "9787657  110.12.17  SP1      薑-老薑   950  花蓮市      56.0      54.5      33.1   \n",
      "9787658  110.12.17  SP2      薑-嫩薑   950  花蓮市      80.0      60.9      37.9   \n",
      "9787659  110.12.17  SU2    薯蕷-白薯蕷   950  花蓮市      34.7      25.6      12.9   \n",
      "9787660  110.12.17  SW1      球莖甘藍   950  花蓮市      21.4      14.4       6.5   \n",
      "\n",
      "         平均價(元_公斤)  交易量(公斤)  \n",
      "0              8.9   2047.0  \n",
      "1             45.0   9399.0  \n",
      "2             42.9   1435.0  \n",
      "3             38.9   1470.0  \n",
      "4             63.7   1581.0  \n",
      "...            ...      ...  \n",
      "9787656       16.3    191.0  \n",
      "9787657       50.5    199.0  \n",
      "9787658       60.1    391.0  \n",
      "9787659       24.9    573.0  \n",
      "9787660       14.2    908.0  \n",
      "\n",
      "[9787661 rows x 10 columns]\n"
     ]
    }
   ],
   "source": [
    "# 若官網無更動或無其他需求 則不需要進入下三段\n",
    "df=pd.read_csv('dataPause/bigoriginal.csv') # 合成最大的原始檔\n",
    "\n",
    "#df=df.drop(['種類代碼'],axis=1) # 在111年1月中後官網刪除此項目\n",
    "df=df.drop(['Unnamed: 0'],axis=1)\n",
    "print(df)\n",
    "\n",
    "df.to_csv(r'dataPause/newbigoriginal.csv')"
   ]
  },
  {
   "cell_type": "code",
   "execution_count": 107,
   "id": "9e0ce02c",
   "metadata": {},
   "outputs": [
    {
     "name": "stdout",
     "output_type": "stream",
     "text": [
      "            交易日期   作物代號        作物名稱  市場代號  市場名稱  上價(元_公斤)  中價(元_公斤)  下價(元_公斤)  \\\n",
      "0      111.01.13  FA800  康乃馨-多朵(混色)   105  台北市場      55.0      51.0      42.0   \n",
      "1      111.01.13  FA840     康乃馨-多朵粉   105  台北市場      56.0      56.0      56.0   \n",
      "2      111.01.13  FA980   美女撫子-美女撫子   105  台北市場     160.0     160.0     160.0   \n",
      "3      111.01.13  FA984      美女撫子-粉   105  台北市場     170.0     170.0     170.0   \n",
      "4      111.01.13  FA985    美女撫子-綠石竹   105  台北市場     185.0     164.0     110.0   \n",
      "...          ...    ...         ...   ...   ...       ...       ...       ...   \n",
      "39775  111.01.11    SO1    甘薯-臺農57號   950   花蓮市      18.0      18.0      18.0   \n",
      "39776  111.01.11    SO2     甘薯-芋仔甘薯   950   花蓮市      20.0      20.0      20.0   \n",
      "39777  111.01.11    SP2        薑-嫩薑   950   花蓮市      97.8      80.8      58.6   \n",
      "39778  111.01.11    SU2      薯蕷-白薯蕷   950   花蓮市      35.0      33.7      22.2   \n",
      "39779  111.01.11    SW1        球莖甘藍   950   花蓮市      21.9      20.9      13.3   \n",
      "\n",
      "       平均價(元_公斤)  交易量(公斤)  \n",
      "0           50.0     49.0  \n",
      "1           56.0     32.0  \n",
      "2          160.0      9.0  \n",
      "3          170.0      8.0  \n",
      "4          157.5    180.0  \n",
      "...          ...      ...  \n",
      "39775       18.0    258.0  \n",
      "39776       20.0     25.0  \n",
      "39777       79.8    500.0  \n",
      "39778       31.7    626.0  \n",
      "39779       19.6    476.0  \n",
      "\n",
      "[39780 rows x 10 columns]\n"
     ]
    }
   ],
   "source": [
    "df12=pd.read_csv(r'dataPause/037All.csv', encoding='gbk') # 新下載好的資料合成檔\n",
    "df12=df12.drop(['Unnamed: 0'],axis=1)\n",
    "\n",
    "print(df12)\n",
    "\n",
    "df12.to_csv(r'dataPause/new037All.csv')"
   ]
  },
  {
   "cell_type": "code",
   "execution_count": 110,
   "id": "5ce8a248",
   "metadata": {},
   "outputs": [
    {
     "name": "stdout",
     "output_type": "stream",
     "text": [
      "['dataCsv\\\\5512210111111.csv', 'dataCsv\\\\55data12344444555.csv']\n",
      "=======\n",
      "9827441\n",
      "------\n",
      "9823358\n"
     ]
    }
   ],
   "source": [
    "from glob import glob\n",
    "\n",
    "files = glob(r'dataPause/new*.csv')\n",
    "print(files)\n",
    "\n",
    "df = pd.concat((pd.read_csv(file, usecols=['交易日期','作物代號','作物名稱','市場代號','市場名稱','上價(元_公斤)','中價(元_公斤)','下價(元_公斤)','平均價(元_公斤)','交易量(公斤)'], dtype={'交易日期':object,'作物代號':object,'作物名稱':object,'市場代號':str,'市場名稱':object,'上價(元_公斤)':str,'中價(元_公斤)':str,'下價(元_公斤)':str,'平均價(元_公斤)':str,'交易量(公斤)':str}) for file in files), ignore_index=True)\n",
    "# 交易日期\t種類代碼\t作物代號\t作物名稱\t市場代號\t市場名稱\t上價(元_公斤)\t中價(元_公斤)\t下價(元_公斤)\t平均價(元_公斤)\t交易量(公斤)\n",
    "\n",
    "print(\"=======\")\n",
    "print(len(df))\n",
    "\n",
    "\n",
    "# 確定要保留哪些重複項（如果有）。- first: 除第一次出現外，刪除重複項。- last：刪除除最後一次出現的重複項。- False : 刪除所有重複項。\n",
    "df=df.drop_duplicates(keep='first', inplace=False)  # 刪除重複\n",
    "print(\"------\")\n",
    "print(len(df))\n",
    "\n",
    "df.to_csv(r'dataPause/bigoriginalAll.csv')"
   ]
  }
 ],
 "metadata": {
  "kernelspec": {
   "display_name": "Python 3 (ipykernel)",
   "language": "python",
   "name": "python3"
  },
  "language_info": {
   "codemirror_mode": {
    "name": "ipython",
    "version": 3
   },
   "file_extension": ".py",
   "mimetype": "text/x-python",
   "name": "python",
   "nbconvert_exporter": "python",
   "pygments_lexer": "ipython3",
   "version": "3.8.12"
  }
 },
 "nbformat": 4,
 "nbformat_minor": 5
}
